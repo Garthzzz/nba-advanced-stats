{
 "cells": [
  {
   "cell_type": "code",
   "execution_count": null,
   "id": "27af4e44-797e-4c1f-a040-8816aed1dd77",
   "metadata": {},
   "outputs": [],
   "source": [
    "import pandas as pd\n",
    "from nba_api.stats.endpoints import leagueseasonmatchups\n",
    "\n",
    "# 设置API参数\n",
    "league_id = '00'  # NBA联盟ID\n",
    "per_mode = 'Totals'  # 数据总计（Totals）\n",
    "season = '2022-23'  # 赛季\n",
    "season_type = 'Regular Season'  # 只考虑常规赛\n",
    "\n",
    "# 调用NBA API获取数据\n",
    "matchup_data = leagueseasonmatchups.LeagueSeasonMatchups(\n",
    "    league_id=league_id,\n",
    "    per_mode_simple=per_mode,\n",
    "    season=season,\n",
    "    season_type_playoffs=season_type\n",
    ")\n",
    "\n",
    "# 将数据转换为DataFrame\n",
    "df_matchups = matchup_data.get_data_frames()[0]\n",
    "\n",
    "# 保存数据到本地CSV文件\n",
    "df_matchups.to_csv('nba_league_season_matchups_2022_23.csv', index=False)\n",
    "\n",
    "# 显示前几行数据\n",
    "print(df_matchups.head())\n"
   ]
  }
 ],
 "metadata": {
  "kernelspec": {
   "display_name": "Python 3 (ipykernel)",
   "language": "python",
   "name": "python3"
  },
  "language_info": {
   "codemirror_mode": {
    "name": "ipython",
    "version": 3
   },
   "file_extension": ".py",
   "mimetype": "text/x-python",
   "name": "python",
   "nbconvert_exporter": "python",
   "pygments_lexer": "ipython3",
   "version": "3.11.7"
  }
 },
 "nbformat": 4,
 "nbformat_minor": 5
}
