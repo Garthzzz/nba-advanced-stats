{
 "cells": [
  {
   "cell_type": "code",
   "execution_count": 1,
   "id": "a9d55638-c54d-40b2-b815-f53b4a5b67e8",
   "metadata": {},
   "outputs": [
    {
     "name": "stdout",
     "output_type": "stream",
     "text": [
      "         GRID_TYPE    SHOT_ZONE_BASIC         SHOT_ZONE_AREA  SHOT_ZONE_RANGE  \\\n",
      "0  League Averages  Above the Break 3         Back Court(BC)  Back Court Shot   \n",
      "1  League Averages  Above the Break 3              Center(C)          24+ ft.   \n",
      "2  League Averages  Above the Break 3   Left Side Center(LC)          24+ ft.   \n",
      "3  League Averages  Above the Break 3  Right Side Center(RC)          24+ ft.   \n",
      "4  League Averages          Backcourt         Back Court(BC)  Back Court Shot   \n",
      "\n",
      "     FGA   FGM  FG_PCT  \n",
      "0     55     6   0.109  \n",
      "1  16411  5671   0.346  \n",
      "2  26211  9374   0.358  \n",
      "3  24222  8629   0.356  \n",
      "4    438    11   0.025  \n",
      "数据已保存至 shotchart_leaguewide_2022_23.csv\n"
     ]
    }
   ],
   "source": [
    "import pandas as pd\n",
    "from nba_api.stats.endpoints import shotchartleaguewide\n",
    "\n",
    "# 设置API参数\n",
    "league_id = '00'  # NBA联盟ID\n",
    "season = '2022-23'  # 赛季\n",
    "\n",
    "# 调用API抓取数据\n",
    "shot_chart_data = shotchartleaguewide.ShotChartLeagueWide(league_id=league_id, season=season)\n",
    "\n",
    "# 提取数据\n",
    "data = shot_chart_data.get_data_frames()[0]\n",
    "\n",
    "# 将数据转换为DataFrame\n",
    "df = pd.DataFrame(data)\n",
    "\n",
    "# 保存数据到本地CSV文件\n",
    "csv_filename = 'shotchart_leaguewide_2022_23.csv'\n",
    "df.to_csv(csv_filename, index=False)\n",
    "\n",
    "# 显示前几行数据\n",
    "print(df.head())\n",
    "\n",
    "print(f\"数据已保存至 {csv_filename}\")\n"
   ]
  },
  {
   "cell_type": "code",
   "execution_count": null,
   "id": "24b8efc0-f102-439d-be8d-79cdd6235f53",
   "metadata": {},
   "outputs": [],
   "source": []
  }
 ],
 "metadata": {
  "kernelspec": {
   "display_name": "Python 3 (ipykernel)",
   "language": "python",
   "name": "python3"
  },
  "language_info": {
   "codemirror_mode": {
    "name": "ipython",
    "version": 3
   },
   "file_extension": ".py",
   "mimetype": "text/x-python",
   "name": "python",
   "nbconvert_exporter": "python",
   "pygments_lexer": "ipython3",
   "version": "3.11.7"
  }
 },
 "nbformat": 4,
 "nbformat_minor": 5
}
